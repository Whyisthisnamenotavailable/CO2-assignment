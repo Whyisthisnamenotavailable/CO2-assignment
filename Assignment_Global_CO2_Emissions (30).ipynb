{
  "nbformat": 4,
  "nbformat_minor": 0,
  "metadata": {
    "colab": {
      "provenance": []
    },
    "kernelspec": {
      "name": "python3",
      "display_name": "Python 3"
    },
    "language_info": {
      "name": "python"
    }
  },
  "cells": [
    {
      "cell_type": "code",
      "execution_count": 54,
      "metadata": {
        "id": "XNIcI5pz4lEK",
        "colab": {
          "base_uri": "https://localhost:8080/"
        },
        "outputId": "30486c7a-4310-49df-9cfb-07e60980b98a"
      },
      "outputs": [
        {
          "output_type": "stream",
          "name": "stdout",
          "text": [
            "Drive already mounted at /content/drive; to attempt to forcibly remount, call drive.mount(\"/content/drive\", force_remount=True).\n"
          ]
        }
      ],
      "source": [
        "import numpy as np\n",
        "import pandas as pd\n",
        "from google.colab import drive\n",
        "import os\n",
        "import matplotlib.pyplot as plt\n",
        "plt.style.use('default')\n",
        "%matplotlib inline\n",
        "from numba import vectorize, int32, int64, float32, float64\n",
        "\n",
        "drive.mount('/content/drive', force_remount=False)\n",
        "\n",
        "with open(\"/content/drive/MyDrive/Colab Notebooks/co2_emissions.csv\", 'r') as file:\n",
        "  co2_emissions = pd.read_csv(file)\n",
        "\n",
        "# filter out the rows in this table that aren't countries\n",
        "df1 = co2_emissions[3:67]\n",
        "df2 = co2_emissions[68:212]\n",
        "co2_emissions = pd.concat([df1, df2], ignore_index=True, sort=False)"
      ]
    },
    {
      "cell_type": "code",
      "source": [
        "# Graph 1: CO2 of the bigger countries\n",
        "\n",
        "# sort top 5\n",
        "co2_emissions_graph1 = co2_emissions.sort_values(by=['2021'], ascending=False)[:5]\n",
        "co2_emissions_graph1\n",
        "\n",
        "five_countries = co2_emissions_graph1.iloc[:,0].to_numpy()\n",
        "years = co2_emissions_graph1.columns[1:].astype('i8')\n",
        "x_as = np.repeat([years], [5], axis=0)\n",
        "y_as = co2_emissions_graph1.iloc[:,1:].to_numpy()\n",
        "\n",
        "plt.plot(x_as[0], y_as[0], label = five_countries[0], linestyle='solid', color='yellow')\n",
        "plt.plot(x_as[1], y_as[1], label = five_countries[1], linestyle=\"--\", color='blue')\n",
        "plt.plot(x_as[2], y_as[2], label = five_countries[2], linestyle=\"-.\", color='brown')\n",
        "plt.plot(x_as[3], y_as[3], label = five_countries[3], linestyle=\"-\", color='pink')\n",
        "plt.plot(x_as[4], y_as[4], label = five_countries[4], linestyle=':', color='red')\n",
        "\n",
        "# print labels in legend\n",
        "plt.legend()\n",
        "\n",
        "# set y label\n",
        "plt.ylabel('CO2 emissions in Mt')\n",
        "\n",
        "# set label\n",
        "plt.xlabel('Years')\n",
        "\n",
        "# set title\n",
        "plt.title('CO2 of the bigger countries')\n",
        "\n",
        "# display plot\n",
        "plt.show()"
      ],
      "metadata": {
        "id": "dnM9siP6Bwl3"
      },
      "execution_count": null,
      "outputs": []
    },
    {
      "cell_type": "code",
      "source": [
        "# Graph 2: worst and best changers\n",
        "\n",
        "# Define a vectorized function\n",
        "def divide(a, b):\n",
        "  return a / b * 100\n",
        "    # return np.divide(a, b, out='array', dtype='float64') * 100\n",
        "    # The / operator can be used as a shorthand for np.divide on ndarrays. a / b * 100\n",
        "\n",
        "vectorized_divide = np.vectorize(divide)\n",
        "\n",
        "# Apply the function to the fields of the structured array  # 1990 = 100%\n",
        "def create_dataframe(co2_emissions):\n",
        "  df1 = pd.DataFrame({co2_emissions.columns[0]: co2_emissions['Country']})\n",
        "  df2 = pd.DataFrame({str(year): vectorized_divide(co2_emissions[str(year)], co2_emissions[str(years[0])])\n",
        "      for year in years}, index=co2_emissions.index, dtype='object')\n",
        "  return pd.concat([df1, df2], ignore_index=False, sort=False, axis=1)"
      ],
      "metadata": {
        "id": "RyvfjT6pXLxD"
      },
      "execution_count": 56,
      "outputs": []
    },
    {
      "cell_type": "code",
      "source": [
        "# Graph 2.1\n",
        "\n",
        "# top three and bottom three countries\n",
        "graph2_1_top = create_dataframe(co2_emissions).sort_values(by=['2021'], ascending=False).head(3)\n",
        "graph2_1_bottom = create_dataframe(co2_emissions).sort_values(by=['2021'], ascending=True).head(3)\n",
        "graph2_1 = pd.concat([graph2_1_top, graph2_1_bottom], ignore_index=True, sort=False)\n",
        "\n",
        "six_countries = graph2_1.iloc[:,0].to_numpy()\n",
        "years = graph2_1.columns[1:].astype('i8')\n",
        "x_as = np.repeat([years], [6], axis=0)\n",
        "y_as = graph2_1.iloc[:,1:].to_numpy()\n",
        "\n",
        "plt.plot(x_as[0], y_as[0], label = six_countries[0], linestyle='solid', color='yellow')\n",
        "plt.plot(x_as[1], y_as[1], label = six_countries[1], linestyle=\"--\", color='blue')\n",
        "plt.plot(x_as[2], y_as[2], label = six_countries[2], linestyle=\"-.\", color='pink')\n",
        "plt.plot(x_as[3], y_as[3], label = six_countries[3], linestyle=\"-\", color='brown')\n",
        "plt.plot(x_as[4], y_as[4], label = six_countries[4], linestyle=':', color='red')\n",
        "plt.plot(x_as[5], y_as[5], label = six_countries[5], linestyle=':', color='purple')\n",
        "\n",
        "# print labels in legend\n",
        "plt.legend()\n",
        "\n",
        "# set y label\n",
        "plt.ylabel('Relative amount of CO2 emitted 1990=100')\n",
        "\n",
        "# set label\n",
        "plt.xlabel('Years')\n",
        "\n",
        "# # set title\n",
        "# plt.title('Worst and best changers')\n",
        "\n",
        "# display plot\n",
        "plt.show()"
      ],
      "metadata": {
        "id": "69egsj3b2yIv"
      },
      "execution_count": null,
      "outputs": []
    },
    {
      "cell_type": "code",
      "source": [
        "# Graph 2.2\n",
        "# top three and bottom three countries\n",
        "graph2_2_top = create_dataframe(co2_emissions[co2_emissions['1990'] >= 5]).sort_values(by=['2021'], ascending=False).head(3)\n",
        "graph2_2_bottom = create_dataframe(co2_emissions[co2_emissions['1990'] >= 5]).sort_values(by=['2021'], ascending=True).head(3)\n",
        "graph2_2 = pd.concat([graph2_2_top, graph2_2_bottom], ignore_index=True, sort=False)\n",
        "\n",
        "six_countries = graph2_2.iloc[:,0].to_numpy()\n",
        "years = graph2_2.columns[1:].astype('i8')\n",
        "x_as = np.repeat([years], [6], axis=0)\n",
        "y_as = graph2_2.iloc[:,1:].to_numpy()\n",
        "\n",
        "plt.plot(x_as[0], y_as[0], label = six_countries[0], linestyle='solid', color='yellow')\n",
        "plt.plot(x_as[1], y_as[1], label = six_countries[1], linestyle=\"--\", color='blue')\n",
        "plt.plot(x_as[2], y_as[2], label = six_countries[2], linestyle=\"-.\", color='pink')\n",
        "plt.plot(x_as[3], y_as[3], label = six_countries[3], linestyle=\"-\", color='brown')\n",
        "plt.plot(x_as[4], y_as[4], label = six_countries[4], linestyle=':', color='red')\n",
        "plt.plot(x_as[5], y_as[5], label = six_countries[5], linestyle=':', color='purple')\n",
        "\n",
        "# # print labels in legend\n",
        "plt.legend()\n",
        "\n",
        "# # set y label\n",
        "plt.ylabel('Relative amount of CO2 emitted 1990=100')\n",
        "\n",
        "# # set label\n",
        "plt.xlabel('Years')\n",
        "\n",
        "# # set title\n",
        "plt.title('Worst and best changers that emitted at least five Mt of CO2 emissions in 1990')\n",
        "\n",
        "# # display plot\n",
        "plt.show()"
      ],
      "metadata": {
        "id": "O1T1zCZGBbtc"
      },
      "execution_count": null,
      "outputs": []
    }
  ]
}